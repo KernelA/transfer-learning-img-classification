{
 "cells": [
  {
   "cell_type": "code",
   "execution_count": 18,
   "metadata": {},
   "outputs": [],
   "source": [
    "import pathlib\n",
    "import os\n",
    "import warnings\n",
    "from typing import NamedTuple\n",
    "\n",
    "from fsspec.implementations.local import LocalFileSystem\n",
    "from PIL import Image\n",
    "from hydra import compose, initialize\n",
    "import polars as pl\n",
    "import seaborn as sns\n",
    "from matplotlib import ticker\n"
   ]
  },
  {
   "cell_type": "code",
   "execution_count": 19,
   "metadata": {},
   "outputs": [],
   "source": [
    "from tr_learn.data.utils import get_split_and_class"
   ]
  },
  {
   "cell_type": "code",
   "execution_count": 20,
   "metadata": {},
   "outputs": [],
   "source": [
    "warnings.filterwarnings(\"ignore\", category=FutureWarning)"
   ]
  },
  {
   "cell_type": "code",
   "execution_count": 21,
   "metadata": {},
   "outputs": [],
   "source": [
    "%matplotlib inline"
   ]
  },
  {
   "cell_type": "code",
   "execution_count": 22,
   "metadata": {},
   "outputs": [],
   "source": [
    "with initialize(os.path.join(\"configs\", \"data\"), version_base=\"1.3\"):\n",
    "    config = compose(\"plates\")"
   ]
  },
  {
   "cell_type": "code",
   "execution_count": 23,
   "metadata": {},
   "outputs": [],
   "source": [
    "class ImageInfo(NamedTuple):\n",
    "    width: int\n",
    "    height: int\n",
    "    num_channels: int\n",
    "    label: str\n",
    "    split: str"
   ]
  },
  {
   "cell_type": "code",
   "execution_count": 24,
   "metadata": {},
   "outputs": [],
   "source": [
    "def get_info_about_image(file_obj, split: str, label: str) -> ImageInfo:\n",
    "    with Image.open(file_obj) as img:\n",
    "        return ImageInfo(\n",
    "            img.width,\n",
    "            img.height,\n",
    "            len(img.getbands()),\n",
    "            label,\n",
    "            split\n",
    "        )"
   ]
  },
  {
   "cell_type": "code",
   "execution_count": 25,
   "metadata": {},
   "outputs": [],
   "source": [
    "fs = LocalFileSystem(config.path_to_data)"
   ]
  },
  {
   "cell_type": "code",
   "execution_count": 26,
   "metadata": {},
   "outputs": [],
   "source": [
    "info = []"
   ]
  },
  {
   "cell_type": "code",
   "execution_count": 27,
   "metadata": {},
   "outputs": [],
   "source": [
    "for file in fs.find(\"/\", detail=False):\n",
    "    image_path = pathlib.Path(file)\n",
    "\n",
    "    if image_path.suffix.lower() != \".jpg\":\n",
    "        continue\n",
    "\n",
    "    split, label = get_split_and_class(image_path)\n",
    "    \n",
    "    with fs.open(file) as f: \n",
    "        info.append(get_info_about_image(f, split, label))"
   ]
  },
  {
   "cell_type": "code",
   "execution_count": 28,
   "metadata": {},
   "outputs": [],
   "source": [
    "info = pl.from_records(info, {\"width\": pl.UInt16, \"height\": pl.UInt16, \"num_channels\": pl.Int8, \"label\": pl.Utf8, \"split\": pl.Utf8})"
   ]
  },
  {
   "cell_type": "code",
   "execution_count": 29,
   "metadata": {},
   "outputs": [],
   "source": [
    "info = info.with_columns((pl.col(\"width\") / pl.col(\"height\")).round(3).alias(\"aspect\"))"
   ]
  },
  {
   "cell_type": "code",
   "execution_count": 30,
   "metadata": {},
   "outputs": [
    {
     "data": {
      "text/plain": [
       "1"
      ]
     },
     "execution_count": 30,
     "metadata": {},
     "output_type": "execute_result"
    }
   ],
   "source": [
    "info.get_column(\"num_channels\").n_unique()"
   ]
  },
  {
   "cell_type": "code",
   "execution_count": 31,
   "metadata": {},
   "outputs": [
    {
     "data": {
      "text/html": [
       "<div><style>\n",
       ".dataframe > thead > tr > th,\n",
       ".dataframe > tbody > tr > td {\n",
       "  text-align: right;\n",
       "  white-space: pre-wrap;\n",
       "}\n",
       "</style>\n",
       "<small>shape: (2, 1)</small><table border=\"1\" class=\"dataframe\"><thead><tr><th>split</th></tr><tr><td>struct[2]</td></tr></thead><tbody><tr><td>{&quot;test&quot;,744}</td></tr><tr><td>{&quot;train&quot;,40}</td></tr></tbody></table></div>"
      ],
      "text/plain": [
       "shape: (2, 1)\n",
       "┌──────────────┐\n",
       "│ split        │\n",
       "│ ---          │\n",
       "│ struct[2]    │\n",
       "╞══════════════╡\n",
       "│ {\"test\",744} │\n",
       "│ {\"train\",40} │\n",
       "└──────────────┘"
      ]
     },
     "execution_count": 31,
     "metadata": {},
     "output_type": "execute_result"
    }
   ],
   "source": [
    "info.select(pl.col(\"split\").value_counts(sort=True))"
   ]
  },
  {
   "cell_type": "code",
   "execution_count": 32,
   "metadata": {},
   "outputs": [],
   "source": [
    "info = info.with_columns(\n",
    "    (pl.col(\"width\").cast(pl.Utf8) + \"x\" + pl.col(\"height\").cast(pl.Utf8)).alias(\"size\")\n",
    ")"
   ]
  },
  {
   "cell_type": "code",
   "execution_count": 33,
   "metadata": {},
   "outputs": [],
   "source": [
    "size_counts = info.group_by(\"split\", \"size\").count().with_columns(pl.col(\"count\").sum().over(\"split\").alias(\"total\")).with_columns(\n",
    "    pl.col(\"count\") / pl.col(\"total\")\n",
    ")"
   ]
  },
  {
   "cell_type": "code",
   "execution_count": 34,
   "metadata": {},
   "outputs": [
    {
     "data": {
      "image/png": "[encoded data removed]",
      "text/plain": [
       "<Figure size 640x480 with 1 Axes>"
      ]
     },
     "metadata": {},
     "output_type": "display_data"
    }
   ],
   "source": [
    "ax = sns.barplot(size_counts.to_pandas(), x=\"size\", y=\"count\", hue=\"split\")\n",
    "ax.set_xlabel(\"Size width x height\")\n",
    "ax.set_ylabel(\"Percent\")\n",
    "ax.yaxis.set_major_formatter(ticker.PercentFormatter(xmax=1))"
   ]
  },
  {
   "cell_type": "code",
   "execution_count": null,
   "metadata": {},
   "outputs": [],
   "source": []
  }
 ],
 "metadata": {
  "kernelspec": {
   "display_name": "stepik-tl",
   "language": "python",
   "name": "python3"
  },
  "language_info": {
   "codemirror_mode": {
    "name": "ipython",
    "version": 3
   },
   "file_extension": ".py",
   "mimetype": "text/x-python",
   "name": "python",
   "nbconvert_exporter": "python",
   "pygments_lexer": "ipython3",
   "version": "3.10.12"
  },
  "orig_nbformat": 4
 },
 "nbformat": 4,
 "nbformat_minor": 2
}
